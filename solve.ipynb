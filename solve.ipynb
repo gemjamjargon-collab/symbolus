{
  "cells": [
    {
      "cell_type": "markdown",
      "metadata": {
        "id": "view-in-github",
        "colab_type": "text"
      },
      "source": [
        "<a href=\"https://colab.research.google.com/github/gemjamjargon-collab/symbolus/blob/main/solve.ipynb\" target=\"_parent\"><img src=\"https://colab.research.google.com/assets/colab-badge.svg\" alt=\"Open In Colab\"/></a>"
      ]
    },
    {
      "cell_type": "code",
      "source": [
        "# Assuming symbols from the previous block are still defined\n",
        "# hbar, m, E, V0, x, k1, k2, k3, A, B, C, D, F, G, L\n",
        "\n",
        "# Define wave numbers and exponential arguments\n",
        "# We use the assumption V0 > E for the tunneling case\n",
        "k1_expr = sp.sqrt(2 * m * E) / hbar\n",
        "k2_expr = sp.sqrt(2 * m * (V0 - E)) / hbar\n",
        "k3_expr = k1_expr\n",
        "\n",
        "# Define the wave functions for each region\n",
        "psi1_expr = A * sp.exp(sp.I * k1_expr * x) + B * sp.exp(-sp.I * k1_expr * x)\n",
        "psi2_expr = C * sp.exp(k2_expr * x) + D * sp.exp(-k2_expr * x)\n",
        "psi3_expr = F * sp.exp(sp.I * k3_expr * x)\n",
        "\n",
        "# Define the boundary conditions at x=0 and x=L\n",
        "# Continuity of the wave function\n",
        "eq1 = sp.Eq(psi1_expr.subs(x, 0), psi2_expr.subs(x, 0))\n",
        "eq2 = sp.Eq(psi2_expr.subs(x, L), psi3_expr.subs(x, L))\n",
        "\n",
        "# Continuity of the derivative of the wave function\n",
        "eq3 = sp.Eq(sp.diff(psi1_expr, x).subs(x, 0), sp.diff(psi2_expr, x).subs(x, 0))\n",
        "eq4 = sp.Eq(sp.diff(psi2_expr, x).subs(x, L), sp.diff(psi3_expr, x).subs(x, L))\n",
        "\n",
        "# Display the equations\n",
        "print(\"Boundary Condition 1 (psi(0) continuous):\")\n",
        "display(eq1)\n",
        "print(\"\\nBoundary Condition 2 (psi(L) continuous):\")\n",
        "display(eq2)\n",
        "print(\"\\nBoundary Condition 3 (psi'(0) continuous):\")\n",
        "display(eq3)\n",
        "print(\"\\nBoundary Condition 4 (psi'(L) continuous):\")\n",
        "display(eq4)\n"
      ],
      "metadata": {
        "id": "Atb52ZW46xZO",
        "colab": {
          "base_uri": "https://localhost:8080/",
          "height": 225
        },
        "outputId": "49a636b9-6465-4341-9481-54ed8c41b89e"
      },
      "execution_count": 10,
      "outputs": [
        {
          "output_type": "error",
          "ename": "NameError",
          "evalue": "name 'sp' is not defined",
          "traceback": [
            "\u001b[0;31m---------------------------------------------------------------------------\u001b[0m",
            "\u001b[0;31mNameError\u001b[0m                                 Traceback (most recent call last)",
            "\u001b[0;32m/tmp/ipython-input-467729709.py\u001b[0m in \u001b[0;36m<cell line: 0>\u001b[0;34m()\u001b[0m\n\u001b[1;32m      4\u001b[0m \u001b[0;31m# Define wave numbers and exponential arguments\u001b[0m\u001b[0;34m\u001b[0m\u001b[0;34m\u001b[0m\u001b[0m\n\u001b[1;32m      5\u001b[0m \u001b[0;31m# We use the assumption V0 > E for the tunneling case\u001b[0m\u001b[0;34m\u001b[0m\u001b[0;34m\u001b[0m\u001b[0m\n\u001b[0;32m----> 6\u001b[0;31m \u001b[0mk1_expr\u001b[0m \u001b[0;34m=\u001b[0m \u001b[0msp\u001b[0m\u001b[0;34m.\u001b[0m\u001b[0msqrt\u001b[0m\u001b[0;34m(\u001b[0m\u001b[0;36m2\u001b[0m \u001b[0;34m*\u001b[0m \u001b[0mm\u001b[0m \u001b[0;34m*\u001b[0m \u001b[0mE\u001b[0m\u001b[0;34m)\u001b[0m \u001b[0;34m/\u001b[0m \u001b[0mhbar\u001b[0m\u001b[0;34m\u001b[0m\u001b[0;34m\u001b[0m\u001b[0m\n\u001b[0m\u001b[1;32m      7\u001b[0m \u001b[0mk2_expr\u001b[0m \u001b[0;34m=\u001b[0m \u001b[0msp\u001b[0m\u001b[0;34m.\u001b[0m\u001b[0msqrt\u001b[0m\u001b[0;34m(\u001b[0m\u001b[0;36m2\u001b[0m \u001b[0;34m*\u001b[0m \u001b[0mm\u001b[0m \u001b[0;34m*\u001b[0m \u001b[0;34m(\u001b[0m\u001b[0mV0\u001b[0m \u001b[0;34m-\u001b[0m \u001b[0mE\u001b[0m\u001b[0;34m)\u001b[0m\u001b[0;34m)\u001b[0m \u001b[0;34m/\u001b[0m \u001b[0mhbar\u001b[0m\u001b[0;34m\u001b[0m\u001b[0;34m\u001b[0m\u001b[0m\n\u001b[1;32m      8\u001b[0m \u001b[0mk3_expr\u001b[0m \u001b[0;34m=\u001b[0m \u001b[0mk1_expr\u001b[0m\u001b[0;34m\u001b[0m\u001b[0;34m\u001b[0m\u001b[0m\n",
            "\u001b[0;31mNameError\u001b[0m: name 'sp' is not defined"
          ]
        }
      ]
    },
    {
      "cell_type": "code",
      "metadata": {
        "id": "1c831c8a"
      },
      "source": [
        "import matplotlib.pyplot as plt\n",
        "import numpy as np\n",
        "\n",
        "# Combine x-values and probability densities for plotting\n",
        "# We need to combine them in the correct order of the regions\n",
        "x_combined = np.concatenate((x_region1, x_region2, x_region3))\n",
        "prob_density_combined = np.concatenate((prob_density_1, prob_density_2, prob_density_3))\n",
        "\n",
        "# Create the plot\n",
        "plt.figure(figsize=(10, 6))\n",
        "plt.plot(x_combined * 1e9, prob_density_combined, label='$|\\psi(x)|^2$') # Plot in nm for better readability\n",
        "\n",
        "# Add vertical lines to indicate the barrier boundaries\n",
        "plt.axvline(x=0, color='gray', linestyle='--', label='Barrier Boundary (x=0)')\n",
        "plt.axvline(x=L_numerical_m * 1e9, color='gray', linestyle='--', label=f'Barrier Boundary (x={L_numerical_m*1e9:.2f} nm)')\n",
        "\n",
        "# Add labels and title\n",
        "plt.xlabel('Position (x) [nm]')\n",
        "plt.ylabel('Probability Density $|\\psi(x)|^2$')\n",
        "plt.title('Probability Density of a Particle Tunneling Through a Potential Barrier')\n",
        "plt.legend()\n",
        "plt.grid(True)\n",
        "plt.show()\n",
        "\n",
        "print(\"Plot of probability density generated.\")\n",
        "print(\"Observe how the probability density oscillates in Region 1 (before the barrier),\")\n",
        "print(\"decays exponentially inside the barrier (Region 2), and then oscillates again\")\n",
        "print(\"in Region 3 (after the barrier) with a reduced amplitude, indicating tunneling.\")"
      ],
      "execution_count": null,
      "outputs": []
    },
    {
      "cell_type": "code",
      "source": [
        "import numpy as np\n",
        "import matplotlib.pyplot as plt\n",
        "\n",
        "# --- 1. Define Universal Constants and Unit Conversions ---\n",
        "# Using precise, standard values for physical constants.\n",
        "\n",
        "HBAR = 1.054571817e-34  # Reduced Planck constant in Joule*seconds\n",
        "ELECTRON_MASS = 9.10938356e-31  # Electron mass in kg\n",
        "EV_TO_JOULE = 1.602176634e-19  # Conversion factor for electron-volts to Joules\n",
        "\n",
        "# --- 2. Define Fixed Simulation Parameters ---\n",
        "# These values are kept constant throughout this simulation.\n",
        "# You can change them to see how they affect the tunneling probability.\n",
        "\n",
        "electron_energy_eV = 2.0  # The kinetic energy of the electron (in electron-volts)\n",
        "barrier_height_eV = 5.0    # The height of the potential barrier (in electron-volts)\n",
        "\n",
        "# Convert fixed parameters to SI units (Joules) for calculations\n",
        "E_fixed_J = electron_energy_eV * EV_TO_JOULE\n",
        "V0_fixed_J = barrier_height_eV * EV_TO_JOULE\n",
        "\n",
        "# --- 3. Define the Range for the Variable Parameter ---\n",
        "# We want to see how probability changes with barrier width.\n",
        "# We'll generate a sequence of barrier widths to test.\n",
        "barrier_widths_nm = np.linspace(0.1, 2.0, 500)\n",
        "barrier_widths_m = barrier_widths_nm * 1e-9\n",
        "\n",
        "# --- 4. Calculate Tunneling Probabilities ---\n",
        "# We'll iterate through each barrier width and calculate the probability.\n",
        "\n",
        "tunneling_probabilities = []\n",
        "\n",
        "# The tunneling phenomenon described by this formula occurs when the electron's\n",
        "# energy (E) is less than the barrier height (V0).\n",
        "if E_fixed_J < V0_fixed_J:\n",
        "    # Calculate the decay constant, alpha (α) - this is constant for fixed E and V0\n",
        "    alpha = np.sqrt(2 * ELECTRON_MASS * (V0_fixed_J - E_fixed_J)) / HBAR\n",
        "\n",
        "    for L_m in barrier_widths_m:\n",
        "        # Calculate the tunneling probability (T) using the standard approximation\n",
        "        # T ≈ e^(-2αL)\n",
        "        T = np.exp(-2 * alpha * L_m)\n",
        "        tunneling_probabilities.append(T)\n",
        "else:\n",
        "    # If electron energy is greater than or equal to the barrier height,\n",
        "    # it passes over the barrier. In a simple model, transmission is certain.\n",
        "    # In this case, the probability is always 1, regardless of width.\n",
        "    tunneling_probabilities = [1.0] * len(barrier_widths_m)\n",
        "\n",
        "\n",
        "# --- 5. Visualize the Results ---\n",
        "# Plot the tunneling probability as a function of barrier width.\n",
        "\n",
        "plt.style.use('seaborn-v0_8-darkgrid')\n",
        "fig, ax = plt.subplots(figsize=(10, 6))\n",
        "\n",
        "ax.plot(barrier_widths_nm, tunneling_probabilities, color='crimson', linewidth=2)\n",
        "\n",
        "# Add labels and a descriptive title\n",
        "ax.set_xlabel('Barrier Width (L) [nm]', fontsize=12)\n",
        "ax.set_ylabel('Tunneling Probability (T)', fontsize=12)\n",
        "ax.set_title('Quantum Tunneling Probability vs. Barrier Width', fontsize=14, fontweight='bold')\n",
        "ax.set_yscale('log') # Use a logarithmic scale to better see the rapid decay\n",
        "\n",
        "# Add a text box to display the fixed parameters for context\n",
        "info_text = (\n",
        "    f'Fixed Parameters:\\n'\n",
        "    f'Electron Energy (E) = {electron_energy_eV} eV\\n'\n",
        "    f'Barrier Height ($V_0$) = {barrier_height_eV} eV'\n",
        ")\n",
        "ax.text(0.6, 0.8, info_text, transform=ax.transAxes, fontsize=10,\n",
        "        verticalalignment='top', bbox=dict(boxstyle='round,pad=0.5', fc='wheat', alpha=0.5))\n",
        "\n",
        "# Customize the plot for clarity\n",
        "ax.grid(True, which='both', linestyle='--', linewidth=0.5)\n",
        "plt.tight_layout()\n",
        "plt.show()\n",
        "\n",
        "# --- 6. Summary ---\n",
        "print(\"Plot generated successfully!\")\n",
        "print(\"This plot shows the probability of an electron tunneling through a potential barrier.\")\n",
        "print(\"Notice how the probability decreases exponentially as the barrier width increases.\")\n",
        "print(\"Using a logarithmic y-axis helps visualize this rapid drop-off.\")"
      ],
      "outputs": [
        {
          "output_type": "display_data",
          "data": {
            "text/plain": [
              "<Figure size 1000x600 with 1 Axes>"
            ],
            "image/png": "[encoded data removed]"
          },
          "metadata": {}
        },
        {
          "output_type": "stream",
          "name": "stdout",
          "text": [
            "Plot generated successfully!\n",
            "This plot shows the probability of an electron tunneling through a potential barrier.\n",
            "Notice how the probability decreases exponentially as the barrier width increases.\n",
            "Using a logarithmic y-axis helps visualize this rapid drop-off.\n"
          ]
        }
      ],
      "execution_count": 11,
      "metadata": {
        "id": "9PdnOVeIFsnU",
        "colab": {
          "base_uri": "https://localhost:8080/",
          "height": 521
        },
        "outputId": "2876170b-003f-4760-9497-ac89cd31d2ff"
      }
    },
    {
      "cell_type": "code",
      "metadata": {
        "id": "e3d35de1",
        "colab": {
          "base_uri": "https://localhost:8080/",
          "height": 225
        },
        "outputId": "a63b58e1-7b6f-4fe3-d0d0-83f9c4289397"
      },
      "source": [
        "# Substitute values into the expanded expression\n",
        "# We'll use x = 3 and y = 4 as an example to evaluate the expression numerically\n",
        "\n",
        "# Substitute numerical values for x and y using the .subs() method\n",
        "substituted_value = expanded_expr.subs({x: 3, y: 4})\n",
        "\n",
        "# Print the expanded expression and the result after substitution\n",
        "print(f\"The expanded expression is: {expanded_expr}\")\n",
        "print(f\"After substituting x=3 and y=4, the value is: {substituted_value}\")\n",
        "\n",
        "# You can also substitute with other symbolic expressions\n",
        "# For example, substitute the symbol y with the expression x**2\n",
        "substituted_expr = expanded_expr.subs({y: x**2})\n",
        "\n",
        "# Print the expression after substituting y with x**2\n",
        "print(f\"After substituting y=x**2, the expression becomes: {substituted_expr}\")"
      ],
      "execution_count": 12,
      "outputs": [
        {
          "output_type": "error",
          "ename": "NameError",
          "evalue": "name 'expanded_expr' is not defined",
          "traceback": [
            "\u001b[0;31m---------------------------------------------------------------------------\u001b[0m",
            "\u001b[0;31mNameError\u001b[0m                                 Traceback (most recent call last)",
            "\u001b[0;32m/tmp/ipython-input-2262843247.py\u001b[0m in \u001b[0;36m<cell line: 0>\u001b[0;34m()\u001b[0m\n\u001b[1;32m      3\u001b[0m \u001b[0;34m\u001b[0m\u001b[0m\n\u001b[1;32m      4\u001b[0m \u001b[0;31m# Substitute numerical values for x and y using the .subs() method\u001b[0m\u001b[0;34m\u001b[0m\u001b[0;34m\u001b[0m\u001b[0m\n\u001b[0;32m----> 5\u001b[0;31m \u001b[0msubstituted_value\u001b[0m \u001b[0;34m=\u001b[0m \u001b[0mexpanded_expr\u001b[0m\u001b[0;34m.\u001b[0m\u001b[0msubs\u001b[0m\u001b[0;34m(\u001b[0m\u001b[0;34m{\u001b[0m\u001b[0mx\u001b[0m\u001b[0;34m:\u001b[0m \u001b[0;36m3\u001b[0m\u001b[0;34m,\u001b[0m \u001b[0my\u001b[0m\u001b[0;34m:\u001b[0m \u001b[0;36m4\u001b[0m\u001b[0;34m}\u001b[0m\u001b[0;34m)\u001b[0m\u001b[0;34m\u001b[0m\u001b[0;34m\u001b[0m\u001b[0m\n\u001b[0m\u001b[1;32m      6\u001b[0m \u001b[0;34m\u001b[0m\u001b[0m\n\u001b[1;32m      7\u001b[0m \u001b[0;31m# Print the expanded expression and the result after substitution\u001b[0m\u001b[0;34m\u001b[0m\u001b[0;34m\u001b[0m\u001b[0m\n",
            "\u001b[0;31mNameError\u001b[0m: name 'expanded_expr' is not defined"
          ]
        }
      ]
    },
    {
      "cell_type": "markdown",
      "metadata": {
        "id": "a02163ed"
      },
      "source": [
        "### Using SymPy for Symbolic Calculations"
      ]
    },
    {
      "cell_type": "code",
      "metadata": {
        "id": "607cd3ea"
      },
      "source": [
        "# 1. Import the SymPy library\n",
        "import sympy as sp\n",
        "\n",
        "# 2. Define symbolic variables\n",
        "# We define x, y, and z as symbols that SymPy can manipulate\n",
        "x, y, z = sp.symbols('x y z')\n",
        "\n",
        "# 3. Create a symbolic expression\n",
        "# Here we define a simple expression (x + y) squared\n",
        "expr = (x + y)**2\n",
        "\n",
        "# 4. Perform a symbolic operation: Expand the expression\n",
        "# The expand function multiplies out the terms in the expression\n",
        "expanded_expr = sp.expand(expr)\n",
        "\n",
        "# Display the original and expanded expressions\n",
        "print(\"Original expression:\", expr)\n",
        "print(\"Expanded expression:\", expanded_expr)"
      ],
      "execution_count": null,
      "outputs": []
    },
    {
      "cell_type": "markdown",
      "metadata": {
        "id": "850c277f"
      },
      "source": [
        "Here's another example showing differentiation and solving an equation:"
      ]
    },
    {
      "cell_type": "code",
      "metadata": {
        "id": "db5173a9"
      },
      "source": [
        "# Define another symbol for differentiation and other operations\n",
        "t = sp.symbols('t')\n",
        "\n",
        "# Create a symbolic expression (e.g., a function of t)\n",
        "f_t = sp.sin(t) + t**2\n",
        "\n",
        "# Differentiate the expression with respect to t\n",
        "# sp.diff() calculates the derivative\n",
        "derivative_f_t = sp.diff(f_t, t)\n",
        "\n",
        "# Print the original function and its derivative\n",
        "print(\"Original function:\", f_t)\n",
        "print(\"Derivative of the function:\", derivative_f_t)\n",
        "\n",
        "# Solve an equation symbolically\n",
        "# We want to solve the equation x^2 - 4 = 0 for x\n",
        "# Use sp.Eq() to define an equation\n",
        "equation_to_solve = sp.Eq(x**2 - 4, 0)\n",
        "\n",
        "# Use sp.solve() to find the values of x that satisfy the equation\n",
        "solutions = sp.solve(equation_to_solve, x)\n",
        "\n",
        "# Print the equation and its solutions\n",
        "print(\"Equation to solve:\", equation_to_solve)\n",
        "print(\"Solutions for x:\", solutions)"
      ],
      "execution_count": null,
      "outputs": []
    },
    {
      "cell_type": "markdown",
      "metadata": {
        "id": "4cbbfde8"
      },
      "source": [
        "These are just a few basic examples. SymPy can handle a wide range of symbolic math tasks."
      ]
    },
    {
      "cell_type": "markdown",
      "metadata": {
        "id": "54da6f2e"
      },
      "source": [
        "# Task\n",
        "Apply SymPy to symbolically solve equations for the quantum tunneling problem."
      ]
    },
    {
      "cell_type": "markdown",
      "metadata": {
        "id": "ee877f16"
      },
      "source": [
        "## Define symbols\n",
        "\n",
        "### Subtask:\n",
        "Define the necessary physical constants and variables as SymPy symbols.\n"
      ]
    },
    {
      "cell_type": "markdown",
      "metadata": {
        "id": "662d89f7"
      },
      "source": [
        "**Reasoning**:\n",
        "The subtask requires defining several physical constants and variables as SymPy symbols. This can be done in a single code block using `sp.symbols()`.\n",
        "\n"
      ]
    },
    {
      "cell_type": "code",
      "metadata": {
        "id": "26ee709c"
      },
      "source": [
        "# Define the necessary physical constants and variables as SymPy symbols\n",
        "import sympy as sp\n",
        "hbar, m, E, V0, x, k1, k2, k3, A, B, C, D, F, G, L = sp.symbols('hbar m E V0 x k1 k2 k3 A B C D F G L')"
      ],
      "execution_count": null,
      "outputs": []
    },
    {
      "cell_type": "markdown",
      "metadata": {
        "id": "30734472"
      },
      "source": [
        "## Define equations\n",
        "\n",
        "### Subtask:\n",
        "Write down the relevant equations for quantum tunneling using the defined symbols. This might include the time-independent Schrödinger equation in different regions, boundary conditions, etc.\n"
      ]
    },
    {
      "cell_type": "code",
      "metadata": {
        "id": "4b5d769a"
      },
      "source": [
        "# Re-calculate T_expr_real from the solution dictionary\n",
        "# Assuming solution_real is still available from the previous successful solve step\n",
        "# F_expr_real = solution_real[F] # This line caused the error as solution_real was not defined\n",
        "\n",
        "# Redefine symbols with only real and positive assumptions (remove E < V0 for solving)\n",
        "hbar, m, E, V0, x, k1, k2, k3, A, B, C, D, F, G, L = sp.symbols('hbar m E V0 x k1 k2 k3 A B C D F G L', real=True, positive=True)\n",
        "\n",
        "# Re-express wave numbers/decay constant symbolically with real assumptions\n",
        "k1_expr_real = sp.sqrt(2 * m * E) / hbar\n",
        "k2_expr_real = sp.sqrt(2 * m * (V0 - E)) / hbar # Use this form for now, assuming V0 > E implicitly\n",
        "k3_expr_real = sp.sqrt(2 * m * E) / hbar\n",
        "\n",
        "# Redefine the wave functions and boundary conditions with real assumptions and new k expressions\n",
        "psi_1_real = A * sp.exp(sp.I * k1_expr_real * x) + B * sp.exp(-sp.I * k1_expr_real * x)\n",
        "psi_2_real = C * sp.exp(k2_expr_real * x) + D * sp.exp(-k2_expr_real * x)\n",
        "psi_3_real = F * sp.exp(sp.I * k3_expr_real * x) # G=0 already applied\n",
        "\n",
        "# Re-solve the system of equations for B, C, D, and F in terms of A with real assumptions\n",
        "eq1_real = sp.Eq(psi_1_real.subs({x: 0}), psi_2_real.subs({x: 0}))\n",
        "psi_1_prime_real = sp.diff(psi_1_real, x)\n",
        "psi_2_prime_real = sp.diff(psi_2_real, x)\n",
        "eq2_real = sp.Eq(psi_1_prime_real.subs({x: 0}), sp.diff(psi_2_real, x).subs({x: 0})) # Corrected derivative call\n",
        "eq3_real = sp.Eq(psi_2_real.subs({x: L}), psi_3_real.subs({x: L}))\n",
        "psi_3_prime_real = sp.diff(psi_3_real, x)\n",
        "eq4_real = sp.Eq(sp.diff(psi_2_real, x).subs({x: L}), psi_3_real.diff(x).subs({x: L})) # Corrected derivative calls\n",
        "\n",
        "equations_real = [eq1_real, eq2_real, eq3_real, eq4_real]\n",
        "unknown_coeffs = [B, C, D, F]\n",
        "\n",
        "# Use sp.solve to find the solutions with real and positive assumptions\n",
        "solution_real = sp.solve(equations_real, unknown_coeffs)\n",
        "\n",
        "# Assuming sp.solve returns a dictionary when a unique solution is found for a list of unknowns\n",
        "if isinstance(solution_real, dict):\n",
        "    F_expr_real = solution_real[F]\n",
        "elif isinstance(solution_real, list) and len(solution_real) > 0 and isinstance(solution_real[0], dict):\n",
        "    # This case was handled before when solution_real was a list of dictionaries.\n",
        "    F_expr_real = solution_real[0][F]\n",
        "elif isinstance(solution_real, list) and len(solution_real) > 0 and isinstance(solution_real[0], list):\n",
        "     # This case was handled before when solution_real was a list of lists.\n",
        "     unknown_coeffs_order = [B, C, D, F]\n",
        "     f_index = unknown_coeffs_order.index(F)\n",
        "     F_expr_real = solution_real[0][f_index]\n",
        "else:\n",
        "     # This case indicates no solution was found or an unexpected structure.\n",
        "     raise TypeError(\"Unexpected structure or no solution found for solution_real.\")\n",
        "\n",
        "\n",
        "T_expr_real = sp.Abs(F_expr_real / A)**2\n",
        "\n",
        "# Substitute sqrt(-E + V0) with sqrt(V0 - E)\n",
        "T_expr_substituted = T_expr_real.subs(sp.sqrt(-E + V0), sp.sqrt(V0 - E))\n",
        "\n",
        "# Simplify the expression with the explicit assumption that V0 - E is positive\n",
        "# This helps SymPy handle terms like sqrt(V0-E) and the exponential arguments correctly\n",
        "T_final_simplify = sp.simplify(T_expr_substituted, assumptions={V0 - E > 0})\n",
        "\n",
        "# Display the final derived symbolic expression for the tunneling probability\n",
        "print(\"Final derived symbolic expression for the tunneling probability (T) for E < V0:\")\n",
        "display(T_final_simplify)"
      ],
      "execution_count": null,
      "outputs": []
    },
    {
      "cell_type": "code",
      "source": [],
      "metadata": {
        "id": "A4Rg9Y7vz2F1"
      },
      "execution_count": null,
      "outputs": []
    },
    {
      "cell_type": "code",
      "source": [],
      "metadata": {
        "id": "3zIP7cflz2td"
      },
      "execution_count": null,
      "outputs": []
    },
    {
      "cell_type": "code",
      "metadata": {
        "id": "6f9d265b"
      },
      "source": [
        "# Redefine symbols with only real and positive assumptions (remove E < V0 for solving)\n",
        "hbar, m, E, V0, x, k1, k2, k3, A, B, C, D, F, G, L = sp.symbols('hbar m E V0 x k1 k2 k3 A B C D F G L', real=True, positive=True)\n",
        "\n",
        "\n",
        "# Re-express wave numbers/decay constant symbolically with real assumptions\n",
        "# k2 expression is different depending on E vs V0, but we'll use the form for E < V0\n",
        "# as that's the case we are interested in for tunneling, and check later.\n",
        "k1_expr_real = sp.sqrt(2 * m * E) / hbar\n",
        "k2_expr_real = sp.sqrt(2 * m * (V0 - E)) / hbar # Use this form for now, assuming V0 > E implicitly\n",
        "\n",
        "\n",
        "# Redefine the wave functions and boundary conditions with real assumptions and new k expressions\n",
        "psi_1_real = A * sp.exp(sp.I * k1_expr_real * x) + B * sp.exp(-sp.I * k1_expr_real * x)\n",
        "# Note: for E > V0, k2 would be imaginary, leading to oscillating solutions, not decay.\n",
        "# We are focusing on tunneling (E < V0), where k2 is real.\n",
        "psi_2_real = C * sp.exp(k2_expr_real * x) + D * sp.exp(-k2_expr_real * x)\n",
        "psi_3_real = F * sp.exp(sp.I * k3_expr_real * x) # G=0 already applied\n",
        "k3_expr_real = sp.sqrt(2 * m * E) / hbar\n",
        "\n",
        "\n",
        "# Re-solve the system of equations for B, C, D, and F in terms of A with real assumptions\n",
        "eq1_real = sp.Eq(psi_1_real.subs({x: 0}), psi_2_real.subs({x: 0}))\n",
        "psi_1_prime_real = sp.diff(psi_1_real, x)\n",
        "psi_2_prime_real = sp.diff(psi_2_real, x)\n",
        "eq2_real = sp.Eq(psi_1_prime_real.subs({x: 0}), psi_2_prime_real.subs({x: 0}))\n",
        "eq3_real = sp.Eq(psi_2_real.subs({x: L}), psi_3_real.subs({x: L}))\n",
        "psi_3_prime_real = sp.diff(psi_3_real, x)\n",
        "eq4_real = sp.Eq(psi_2_prime_real.subs({x: L}), psi_3_prime_real.subs({x: L}))\n",
        "\n",
        "equations_real = [eq1_real, eq2_real, eq3_real, eq4_real]\n",
        "unknown_coeffs = [B, C, D, F]\n",
        "\n",
        "# Use sp.solve to find the solutions with real and positive assumptions\n",
        "solution_real = sp.solve(equations_real, unknown_coeffs)\n",
        "\n",
        "# Assuming sp.solve returns a dictionary when a unique solution is found for a list of unknowns\n",
        "if isinstance(solution_real, dict):\n",
        "    F_expr_real = solution_real[F]\n",
        "else:\n",
        "     # This case was handled before when solution_real was a list. Re-add logic if needed,\n",
        "     # but based on last successful solve, it returned a dict.\n",
        "     raise TypeError(\"Unexpected structure for solution_real - expected dictionary.\")\n",
        "\n",
        "\n",
        "# Calculate the tunneling probability T = |F|^2 / |A|^2 with real assumptions\n",
        "# We are using sp.Abs because F_expr_real / A is still a complex expression before simplification\n",
        "T_expr_real = sp.Abs(F_expr_real / A)**2\n",
        "\n",
        "# Simplify the expression for the tunneling probability\n",
        "# Apply the assumption E < V0 for simplification if necessary\n",
        "# sp.simplify often handles these assumptions implicitly, but we can also use .subs if needed.\n",
        "T_final_simplify = sp.simplify(T_expr_real)\n",
        "\n",
        "# Display the derived symbolic expression for the tunneling probability (Transmission coefficient)\n",
        "print(\"Derived symbolic expression for the tunneling probability (T) with real and positive assumptions:\")\n",
        "display(T_final_simplify)"
      ],
      "execution_count": null,
      "outputs": []
    },
    {
      "cell_type": "code",
      "metadata": {
        "id": "3b90d674"
      },
      "source": [
        "# Display the complex symbolic expression for T\n",
        "print(\"Complex symbolic expression for the tunneling probability (T):\")\n",
        "display(T_final_simplify)"
      ],
      "execution_count": null,
      "outputs": []
    },
    {
      "cell_type": "markdown",
      "metadata": {
        "id": "62cf1b01"
      },
      "source": [
        "**Reasoning**:\n",
        "Define the wave functions in each region, express the wave numbers/decay constant symbolically, and write down the boundary conditions at x=0 and x=L, considering G=0.\n",
        "\n"
      ]
    },
    {
      "cell_type": "code",
      "metadata": {
        "id": "a60db253"
      },
      "source": [
        "# Define the wave functions in each region\n",
        "psi_1 = A * sp.exp(sp.I * k1 * x) + B * sp.exp(-sp.I * k1 * x) # Region 1: x < 0\n",
        "psi_2 = C * sp.exp(k2 * x) + D * sp.exp(-k2 * x) # Region 2: 0 <= x <= L (assuming E < V0, k2 is real)\n",
        "psi_3 = F * sp.exp(sp.I * k3 * x) + G * sp.exp(-sp.I * k3 * x) # Region 3: x > L\n",
        "\n",
        "# Express wave numbers/decay constant symbolically (assuming E < V0)\n",
        "k1_expr = sp.sqrt(2 * m * E) / hbar\n",
        "k2_expr = sp.sqrt(2 * m * (V0 - E)) / hbar # For E < V0, k2 is real\n",
        "k3_expr = sp.sqrt(2 * m * E) / hbar # Assuming the potential is 0 after the barrier\n",
        "\n",
        "# Substitute the expressions for k1, k2, k3 into the wave functions\n",
        "psi_1 = psi_1.subs({k1: k1_expr})\n",
        "psi_2 = psi_2.subs({k2: k2_expr})\n",
        "psi_3 = psi_3.subs({k3: k3_expr})\n",
        "\n",
        "# Apply the condition G = 0 (no reflected wave in Region 3)\n",
        "psi_3 = psi_3.subs({G: 0})\n",
        "\n",
        "# Write down the boundary conditions at x = 0\n",
        "# psi_1(0) = psi_2(0)\n",
        "eq1 = sp.Eq(psi_1.subs({x: 0}), psi_2.subs({x: 0}))\n",
        "\n",
        "# psi'_1(0) = psi'_2(0)\n",
        "psi_1_prime = sp.diff(psi_1, x)\n",
        "psi_2_prime = sp.diff(psi_2, x)\n",
        "eq2 = sp.Eq(psi_1_prime.subs({x: 0}), psi_2_prime.subs({x: 0}))\n",
        "\n",
        "# Write down the boundary conditions at x = L\n",
        "# psi_2(L) = psi_3(L)\n",
        "eq3 = sp.Eq(psi_2.subs({x: L}), psi_3.subs({x: L}))\n",
        "\n",
        "# psi'_2(L) = psi'_3(L)\n",
        "psi_3_prime = sp.diff(psi_3, x)\n",
        "eq4 = sp.Eq(psi_2_prime.subs({x: L}), psi_3_prime.subs({x: L}))\n",
        "\n",
        "# Display the equations\n",
        "print(\"Wave function in Region 1:\")\n",
        "display(psi_1)\n",
        "print(\"\\nWave function in Region 2:\")\n",
        "display(psi_2)\n",
        "print(\"\\nWave function in Region 3 (with G=0):\")\n",
        "display(psi_3)\n",
        "print(\"\\nBoundary Condition at x=0 (psi continuous):\")\n",
        "display(eq1)\n",
        "print(\"\\nBoundary Condition at x=0 (psi' continuous):\")\n",
        "display(eq2)\n",
        "print(\"\\nBoundary Condition at x=L (psi continuous):\")\n",
        "display(eq3)\n",
        "print(\"\\nBoundary Condition at x=L (psi' continuous):\")\n",
        "display(eq4)"
      ],
      "execution_count": null,
      "outputs": []
    },
    {
      "cell_type": "markdown",
      "metadata": {
        "id": "ed059b92"
      },
      "source": [
        "## Solve equations symbolically\n",
        "\n",
        "### Subtask:\n",
        "Use SymPy's `solve` function to solve these equations for key quantities (e.g., wave function coefficients, decay constant).\n"
      ]
    },
    {
      "cell_type": "markdown",
      "metadata": {
        "id": "278df455"
      },
      "source": [
        "**Reasoning**:\n",
        "Use SymPy's solve function to solve the system of equations for the unknown coefficients.\n",
        "\n"
      ]
    },
    {
      "cell_type": "code",
      "metadata": {
        "id": "2746d38d"
      },
      "source": [
        "# Solve the system of equations for B, C, D, and F in terms of A\n",
        "# We are solving for the coefficients B, C, D, F\n",
        "unknown_coeffs = [B, C, D, F]\n",
        "equations = [eq1, eq2, eq3, eq4]\n",
        "\n",
        "# Use sp.solve to find the solutions\n",
        "solution = sp.solve(equations, unknown_coeffs)\n",
        "\n",
        "# Display the obtained symbolic solutions for the coefficients\n",
        "print(\"Symbolic solutions for the coefficients B, C, D, and F in terms of A:\")\n",
        "display(solution)"
      ],
      "execution_count": null,
      "outputs": []
    },
    {
      "cell_type": "markdown",
      "metadata": {
        "id": "7a44c41f"
      },
      "source": [
        "## Derive tunneling probability\n",
        "\n",
        "### Subtask:\n",
        "Use the symbolically solved quantities to derive the formula for the tunneling probability.\n"
      ]
    },
    {
      "cell_type": "markdown",
      "metadata": {
        "id": "50015111"
      },
      "source": [
        "**Reasoning**:\n",
        "Extract the expression for F from the solution, substitute the definitions of k1 and k2 back, calculate the square of the absolute value of F/A, and display the resulting tunneling probability formula.\n",
        "\n"
      ]
    },
    {
      "cell_type": "code",
      "metadata": {
        "id": "1f7f2900"
      },
      "source": [
        "# Extract the symbolic expression for F from the solution dictionary\n",
        "F_expr = solution[F]\n",
        "\n",
        "# Substitute the definitions of k1 and k2 back into the expression for F\n",
        "# (though they were already substituted when defining the wave functions,\n",
        "# this step ensures F is expressed purely in terms of hbar, m, E, V0, and L)\n",
        "# k1_expr = sp.sqrt(2 * m * E) / hbar\n",
        "# k2_expr = sp.sqrt(2 * m * (V0 - E)) / hbar\n",
        "# F_expr = F_expr.subs({k1: k1_expr, k2: k2_expr}) # This step is actually redundant here\n",
        "\n",
        "\n",
        "# Calculate the tunneling probability T = |F|^2 / |A|^2\n",
        "# Since the solution gives F in terms of A, we can calculate |F/A|^2\n",
        "# This is equivalent to abs(F_expr / A)**2\n",
        "# Note: F_expr is already the expression for F *in terms of A*\n",
        "T_expr = sp.abs(F_expr / A)**2\n",
        "\n",
        "# Simplify the expression for the tunneling probability\n",
        "T_simplified = sp.simplify(T_expr)\n",
        "\n",
        "# Display the derived symbolic expression for the tunneling probability (Transmission coefficient)\n",
        "print(\"Derived symbolic expression for the tunneling probability (T):\")\n",
        "display(T_simplified)"
      ],
      "execution_count": null,
      "outputs": []
    },
    {
      "cell_type": "markdown",
      "metadata": {
        "id": "52b0fb48"
      },
      "source": [
        "**Reasoning**:\n",
        "The previous attempt failed because `sympy.abs` is not the correct function. The correct function to compute the absolute value of a symbolic expression in SymPy is `sympy.Abs`. I will correct the function name and try again.\n",
        "\n"
      ]
    },
    {
      "cell_type": "code",
      "metadata": {
        "id": "2-hfKzNKOBF2"
      },
      "source": [
        "# Extract the symbolic expression for F from the solution dictionary\n",
        "F_expr = solution[F]\n",
        "\n",
        "# Calculate the tunneling probability T = |F|^2 / |A|^2\n",
        "# Since the solution gives F in terms of A, we can calculate |F/A|^2\n",
        "# This is equivalent to Abs(F_expr / A)**2\n",
        "# Note: F_expr is already the expression for F *in terms of A*\n",
        "T_expr = sp.Abs(F_expr / A)**2\n",
        "\n",
        "# Simplify the expression for the tunneling probability\n",
        "T_simplified = sp.simplify(T_expr)\n",
        "\n",
        "# Display the derived symbolic expression for the tunneling probability (Transmission coefficient)\n",
        "print(\"Derived symbolic expression for the tunneling probability (T):\")\n",
        "display(T_simplified)"
      ],
      "execution_count": null,
      "outputs": []
    },
    {
      "cell_type": "markdown",
      "metadata": {
        "id": "da86b581"
      },
      "source": [
        "**Reasoning**:\n",
        "The derived symbolic expression for the tunneling probability is very complex due to SymPy handling general complex numbers (using re() and im()). While mathematically correct, it's not the simplified formula typically seen for real-valued parameters E, V0, m, hbar, and L in the case E < V0. I need to explicitly assume these parameters are real and positive and assume E < V0 to get the standard, simpler formula. Then, I will re-calculate and display the simplified expression.\n",
        "\n"
      ]
    },
    {
      "cell_type": "code",
      "metadata": {
        "id": "7bde6e81"
      },
      "source": [
        "# Assume that E, V0, m, hbar, and L are real and positive\n",
        "assume_params = {E > 0, V0 > 0, m > 0, hbar > 0, L > 0}\n",
        "# Also assume E < V0 for tunneling\n",
        "assume_params.add(E < V0)\n",
        "\n",
        "# Redefine symbols with assumptions\n",
        "hbar, m, E, V0, x, k1, k2, k3, A, B, C, D, F, G, L = sp.symbols('hbar m E V0 x k1 k2 k3 A B C D F G L', real=True, positive=True)\n",
        "# Add the assumption E < V0\n",
        "E = sp.Symbol('E', real=True, positive=True)\n",
        "V0 = sp.Symbol('V0', real=True, positive=True)\n",
        "L = sp.Symbol('L', real=True, positive=True)\n",
        "m = sp.Symbol('m', real=True, positive=True)\n",
        "hbar = sp.Symbol('hbar', real=True, positive=True)\n",
        "\n",
        "# Re-express wave numbers/decay constant symbolically with real assumptions\n",
        "k1_expr_real = sp.sqrt(2 * m * E) / hbar\n",
        "k2_expr_real = sp.sqrt(2 * m * (V0 - E)) / hbar # For E < V0, k2 is real and positive\n",
        "k3_expr_real = sp.sqrt(2 * m * E) / hbar\n",
        "\n",
        "# Redefine the wave functions and boundary conditions with real assumptions and new k expressions\n",
        "psi_1_real = A * sp.exp(sp.I * k1_expr_real * x) + B * sp.exp(-sp.I * k1_expr_real * x)\n",
        "psi_2_real = C * sp.exp(k2_expr_real * x) + D * sp.exp(-k2_expr_real * x)\n",
        "psi_3_real = F * sp.exp(sp.I * k3_expr_real * x) # G=0 already applied\n",
        "\n",
        "# Re-solve the system of equations for B, C, D, and F in terms of A with real assumptions\n",
        "eq1_real = sp.Eq(psi_1_real.subs({x: 0}), psi_2_real.subs({x: 0}))\n",
        "psi_1_prime_real = sp.diff(psi_1_real, x)\n",
        "psi_2_prime_real = sp.diff(psi_2_real, x)\n",
        "eq2_real = sp.Eq(psi_1_prime_real.subs({x: 0}), psi_2_prime_real.subs({x: 0}))\n",
        "eq3_real = sp.Eq(psi_2_real.subs({x: L}), psi_3_real.subs({x: L}))\n",
        "psi_3_prime_real = sp.diff(psi_3_real, x)\n",
        "eq4_real = sp.Eq(psi_2_prime_real.subs({x: L}), psi_3_prime_real.subs({x: L}))\n",
        "\n",
        "equations_real = [eq1_real, eq2_real, eq3_real, eq4_real]\n",
        "\n",
        "# Use sp.solve to find the solutions with real assumptions\n",
        "solution_real = sp.solve(equations_real, unknown_coeffs)\n",
        "\n",
        "# Extract the symbolic expression for F from the real solution dictionary\n",
        "F_expr_real = solution_real[F]\n",
        "\n",
        "# Calculate the tunneling probability T = |F|^2 / |A|^2 with real assumptions\n",
        "# We are using sp.Abs because F_expr_real / A is still a complex expression\n",
        "T_expr_real = sp.Abs(F_expr_real / A)**2\n",
        "\n",
        "# Simplify the expression for the tunneling probability\n",
        "T_simplified_real = sp.simplify(T_expr_real)\n",
        "\n",
        "# Display the derived symbolic expression for the tunneling probability (Transmission coefficient)\n",
        "print(\"Derived symbolic expression for the tunneling probability (T) with real assumptions:\")\n",
        "display(T_simplified_real)"
      ],
      "execution_count": null,
      "outputs": []
    },
    {
      "cell_type": "markdown",
      "metadata": {
        "id": "f2be8a6c"
      },
      "source": [
        "**Reasoning**:\n",
        "The error `TypeError: list indices must be integers or slices, not Symbol` indicates that `solution_real` is a list, not a dictionary as I assumed. When `sp.solve` is called with a list of unknowns, it returns a list of solutions. I need to inspect the structure of `solution_real` and extract the value for F correctly, likely by accessing the first (and likely only) element of the list and then treating that element as a dictionary or accessing elements by index if it's a list of lists. I will print the type and contents of `solution_real` to understand its structure and then correct the extraction of `F_expr_real`.\n",
        "\n"
      ]
    },
    {
      "cell_type": "code",
      "metadata": {
        "id": "oRBK0w_HOKQC"
      },
      "source": [
        "# Print the type and contents of solution_real to inspect its structure\n",
        "print(\"Type of solution_real:\", type(solution_real))\n",
        "print(\"Contents of solution_real:\", solution_real)\n",
        "\n",
        "# Based on the output, correct the extraction of F_expr_real\n",
        "# If solution_real is a list of dictionaries, use:\n",
        "# F_expr_real = solution_real[0][F]\n",
        "# If solution_real is a list of lists (e.g., [[value_B, value_C, value_D, value_F]]),\n",
        "# I would need to know the order of unknowns [B, C, D, F] and use the correct index for F.\n",
        "# Since we solved for [B, C, D, F], F is the last element (index 3).\n",
        "# F_expr_real = solution_real[0][3] # Assuming solution_real is [[...]]\n",
        "\n",
        "# Assuming sp.solve with a list of unknowns returns a list of dictionaries or a list containing one dictionary:\n",
        "if isinstance(solution_real, list) and len(solution_real) > 0 and isinstance(solution_real[0], dict):\n",
        "    F_expr_real = solution_real[0][F]\n",
        "elif isinstance(solution_real, list) and len(solution_real) > 0 and isinstance(solution_real[0], list):\n",
        "     # Need to confirm the order of unknowns was [B, C, D, F] - which it was in the solve call\n",
        "     unknown_coeffs_order = [B, C, D, F]\n",
        "     f_index = unknown_coeffs_order.index(F)\n",
        "     F_expr_real = solution_real[0][f_index]\n",
        "else:\n",
        "    raise TypeError(\"Unexpected structure for solution_real\")\n",
        "\n",
        "\n",
        "# Calculate the tunneling probability T = |F|^2 / |A|^2 with real assumptions\n",
        "# We are using sp.Abs because F_expr_real / A is still a complex expression\n",
        "T_expr_real = sp.Abs(F_expr_real / A)**2\n",
        "\n",
        "# Simplify the expression for the tunneling probability\n",
        "T_simplified_real = sp.simplify(T_expr_real)\n",
        "\n",
        "# Display the derived symbolic expression for the tunneling probability (Transmission coefficient)\n",
        "print(\"Derived symbolic expression for the tunneling probability (T) with real assumptions:\")\n",
        "display(T_simplified_real)"
      ],
      "execution_count": null,
      "outputs": []
    },
    {
      "cell_type": "markdown",
      "metadata": {
        "id": "8c225738"
      },
      "source": [
        "**Reasoning**:\n",
        "The error indicates that `solution_real` is an empty list. This means that `sp.solve` failed to find a solution for the system of equations with the specified assumptions. This could be due to conflicting assumptions (E < V0 while also assuming E and V0 are positive) or the complexity of the equations under these specific assumptions causing the solver to fail. I need to review the equations and assumptions to see if there's an issue that prevented SymPy from finding a solution. I will try to solve again without the `E < V0` assumption initially, just with real and positive parameters, and see if a solution is found. If a solution is found, I can then apply the condition E < V0 to the resulting expression for T.\n",
        "\n"
      ]
    },
    {
      "cell_type": "code",
      "metadata": {
        "id": "x4MLo64sOOhA"
      },
      "source": [
        "# Redefine symbols with only real and positive assumptions (remove E < V0 for solving)\n",
        "hbar, m, E, V0, x, k1, k2, k3, A, B, C, D, F, G, L = sp.symbols('hbar m E V0 x k1 k2 k3 A B C D F G L', real=True, positive=True)\n",
        "\n",
        "\n",
        "# Re-express wave numbers/decay constant symbolically with real assumptions\n",
        "# k2 expression is different depending on E vs V0, but we'll use the form for E < V0\n",
        "# as that's the case we are interested in for tunneling, and check later.\n",
        "k1_expr_real = sp.sqrt(2 * m * E) / hbar\n",
        "k2_expr_real = sp.sqrt(2 * m * (V0 - E)) / hbar # Use this form for now, assuming V0 > E implicitly\n",
        "\n",
        "\n",
        "# Redefine the wave functions and boundary conditions with real assumptions and new k expressions\n",
        "psi_1_real = A * sp.exp(sp.I * k1_expr_real * x) + B * sp.exp(-sp.I * k1_expr_real * x)\n",
        "# Note: for E > V0, k2 would be imaginary, leading to oscillating solutions, not decay.\n",
        "# We are focusing on tunneling (E < V0), where k2 is real.\n",
        "psi_2_real = C * sp.exp(k2_expr_real * x) + D * sp.exp(-k2_expr_real * x)\n",
        "psi_3_real = F * sp.exp(sp.I * k3_expr_real * x) # G=0 already applied\n",
        "k3_expr_real = sp.sqrt(2 * m * E) / hbar\n",
        "\n",
        "\n",
        "# Re-solve the system of equations for B, C, D, and F in terms of A with real assumptions\n",
        "eq1_real = sp.Eq(psi_1_real.subs({x: 0}), psi_2_real.subs({x: 0}))\n",
        "psi_1_prime_real = sp.diff(psi_1_real, x)\n",
        "psi_2_prime_real = sp.diff(psi_2_real, x)\n",
        "eq2_real = sp.Eq(psi_1_prime_real.subs({x: 0}), psi_2_prime_real.subs({x: 0}))\n",
        "eq3_real = sp.Eq(psi_2_real.subs({x: L}), psi_3_real.subs({x: L}))\n",
        "psi_3_prime_real = sp.diff(psi_3_real, x)\n",
        "eq4_real = sp.Eq(psi_2_prime_real.subs({x: L}), psi_3_prime_real.subs({x: L}))\n",
        "\n",
        "equations_real = [eq1_real, eq2_real, eq3_real, eq4_real]\n",
        "unknown_coeffs = [B, C, D, F]\n",
        "\n",
        "# Use sp.solve to find the solutions with real and positive assumptions\n",
        "solution_real = sp.solve(equations_real, unknown_coeffs)\n",
        "\n",
        "# Print the type and contents of solution_real to inspect its structure\n",
        "print(\"Type of solution_real after solving without E < V0 assumption:\", type(solution_real))\n",
        "print(\"Contents of solution_real after solving without E < V0 assumption:\", solution_real)\n",
        "\n",
        "# Assuming sp.solve returns a list containing one dictionary when a solution is found:\n",
        "if isinstance(solution_real, list) and len(solution_real) > 0 and isinstance(solution_real[0], dict):\n",
        "    F_expr_real = solution_real[0][F]\n",
        "else:\n",
        "     raise TypeError(\"Unexpected structure or no solution found for solution_real\")\n",
        "\n",
        "# Calculate the tunneling probability T = |F|^2 / |A|^2 with real assumptions\n",
        "# We are using sp.Abs because F_expr_real / A is still a complex expression\n",
        "T_expr_real = sp.Abs(F_expr_real / A)**2\n",
        "\n",
        "# Simplify the expression for the tunneling probability\n",
        "# Apply the assumption E < V0 for simplification if necessary\n",
        "# sp.simplify often handles these assumptions implicitly, but we can also use .subs if needed.\n",
        "T_simplified_real = sp.simplify(T_expr_real)\n",
        "\n",
        "# Display the derived symbolic expression for the tunneling probability (Transmission coefficient)\n",
        "print(\"Derived symbolic expression for the tunneling probability (T) with real and positive assumptions:\")\n",
        "display(T_simplified_real)"
      ],
      "execution_count": null,
      "outputs": []
    },
    {
      "cell_type": "markdown",
      "metadata": {
        "id": "37bd0417"
      },
      "source": [
        "**Reasoning**:\n",
        "The error message `TypeError: Unexpected structure or no solution found for solution_real` indicates that while SymPy *did* find a solution this time, the structure of the `solution_real` variable is a dictionary directly, not a list containing a dictionary. The previous attempt to handle list structures was incorrect for this output type. I need to adjust the code to directly access the value associated with the key `F` from the `solution_real` dictionary.\n",
        "\n"
      ]
    },
    {
      "cell_type": "code",
      "metadata": {
        "id": "sMuuuPMuQP6D"
      },
      "source": [
        "# Extract the symbolic expression for F directly from the solution_real dictionary\n",
        "F_expr_real = solution_real[F]\n",
        "\n",
        "# Calculate the tunneling probability T = |F|^2 / |A|^2 with real assumptions\n",
        "# We are using sp.Abs because F_expr_real / A is still a complex expression\n",
        "T_expr_real = sp.Abs(F_expr_real / A)**2\n",
        "\n",
        "# Simplify the expression for the tunneling probability\n",
        "# Apply the assumption E < V0 for simplification if necessary\n",
        "# sp.simplify often handles these assumptions implicitly, but we can also use .subs if needed.\n",
        "T_simplified_real = sp.simplify(T_expr_real)\n",
        "\n",
        "# Display the derived symbolic expression for the tunneling probability (Transmission coefficient)\n",
        "print(\"Derived symbolic expression for the tunneling probability (T) with real and positive assumptions:\")\n",
        "display(T_simplified_real)"
      ],
      "execution_count": null,
      "outputs": []
    },
    {
      "cell_type": "markdown",
      "metadata": {
        "id": "9c23ca97"
      },
      "source": [
        "**Reasoning**:\n",
        "Although the expression is simpler than the first attempt, it still contains `Abs`, `cos(atan2)`, and `sqrt(-E + V0)`. Since we are specifically interested in the case where E < V0, `-E + V0` is positive, so `sqrt(-E + V0)` is real and `atan2(0, -E + V0)` simplifies to 0, and `cos(0)` is 1. Also `Abs(E-V0)` is `V0-E`. I will explicitly use these facts to simplify the expression further and attempt to get the standard tunneling probability formula. I will substitute `sqrt(-E+V0)` with `sqrt(V0-E)` and simplify the exponential term.\n",
        "\n"
      ]
    },
    {
      "cell_type": "code",
      "metadata": {
        "id": "1fd83284"
      },
      "source": [
        "# Substitute sqrt(-E + V0) with sqrt(V0 - E) since we are assuming E < V0\n",
        "# And simplify the exponential term using cos(atan2(0, positive))/2 = cos(0)/2 = 1/2, leading to exp(sqrt(2)*L*sqrt(m)*sqrt(V0-E)/hbar * 2)\n",
        "T_simplified_real_sub = T_simplified_real.subs(sp.sqrt(-E + V0), sp.sqrt(V0 - E))\n",
        "\n",
        "# We know that when E < V0, sqrt(-E + V0) is imaginary *if* V0-E is negative.\n",
        "# But here, we are assuming E < V0, so V0-E > 0, and sqrt(V0-E) is real.\n",
        "# The term exp(2*sqrt(2)*L*sqrt(m)*cos(atan2(0, -E + V0)/2)*sqrt(Abs(E - V0))/hbar)\n",
        "# simplifies because atan2(0, -E+V0) is 0 when E<V0, cos(0/2)=1. Abs(E-V0)=V0-E.\n",
        "# The exponent is 2*sqrt(2)*L*sqrt(m)*1*sqrt(V0-E)/hbar = 2 * L * sqrt(2*m*(V0-E))/hbar = 2 * L * k2_expr_real.\n",
        "# The previous simplification step by SymPy seems to have handled this partially.\n",
        "\n",
        "# Let's try simplifying again after the substitution of sqrt(-E+V0) -> sqrt(V0-E)\n",
        "T_final_simplify = sp.simplify(T_simplified_real_sub)\n",
        "\n",
        "# Display the final derived symbolic expression for the tunneling probability\n",
        "print(\"Final derived symbolic expression for the tunneling probability (T) for E < V0:\")\n",
        "display(T_final_simplify)"
      ],
      "execution_count": null,
      "outputs": []
    },
    {
      "cell_type": "markdown",
      "metadata": {
        "id": "a6760485"
      },
      "source": [
        "**Reasoning**:\n",
        "The substitution of `sqrt(-E + V0)` with `sqrt(V0 - E)` didn't seem to simplify the expression as expected. SymPy is still showing terms like `cos(atan2(0, -E + V0)/2)` and `Abs(E - V0)`. I need to guide SymPy towards the standard form by directly substituting the simplified terms based on the E < V0 assumption. Specifically, I will substitute `sqrt(-E + V0)` with `sp.I * sp.sqrt(E - V0)` where `E-V0` is negative, or more appropriately, substitute `sqrt(-E + V0)` with `sp.sqrt(V0 - E)` and explicitly tell SymPy that `V0 - E` is positive under our assumption. Let's retry by making the substitution `sqrt(-E + V0)` -> `sqrt(V0 - E)` and then applying simplification with the assumption `V0 - E > 0`.\n",
        "\n"
      ]
    },
    {
      "cell_type": "code",
      "metadata": {
        "id": "f69e0d21"
      },
      "source": [
        "# Re-calculate T_expr_real from the solution dictionary\n",
        "F_expr_real = solution_real[F]\n",
        "T_expr_real = sp.Abs(F_expr_real / A)**2\n",
        "\n",
        "# Substitute sqrt(-E + V0) with sqrt(V0 - E)\n",
        "T_expr_substituted = T_expr_real.subs(sp.sqrt(-E + V0), sp.sqrt(V0 - E))\n",
        "\n",
        "# Simplify the expression with the explicit assumption that V0 - E is positive\n",
        "# This helps SymPy handle terms like sqrt(V0-E) and the exponential arguments correctly\n",
        "T_final_simplify = sp.simplify(T_expr_substituted, assumptions={V0 - E > 0})\n",
        "\n",
        "# Display the final derived symbolic expression for the tunneling probability\n",
        "print(\"Final derived symbolic expression for the tunneling probability (T) for E < V0:\")\n",
        "display(T_final_simplify)"
      ],
      "execution_count": null,
      "outputs": []
    },
    {
      "cell_type": "markdown",
      "metadata": {
        "id": "67ad419a"
      },
      "source": [
        "## Compare with numerical results\n",
        "\n",
        "### Subtask:\n",
        "Briefly discuss how the symbolic results relate to the numerical simulation done earlier.\n"
      ]
    },
    {
      "cell_type": "markdown",
      "metadata": {
        "id": "89338610"
      },
      "source": [
        "**Reasoning**:\n",
        "Review the symbolic result and the numerical simulation, then discuss their relationship based on the instructions.\n",
        "\n"
      ]
    },
    {
      "cell_type": "code",
      "metadata": {
        "id": "a343cfaa"
      },
      "source": [
        "# 1. Review the symbolic expression (from previous steps, stored in T_final_simplify)\n",
        "# The symbolic expression for T (T_final_simplify) is complex but depends on E, V0, m, L, and hbar.\n",
        "# It involves exponential terms with arguments related to sqrt(V0 - E) and L,\n",
        "# as well as polynomial terms of E and V0.\n",
        "\n",
        "# 2. Recall the numerical simulation\n",
        "# The numerical simulation calculated the tunneling probability for a fixed electron energy (E)\n",
        "# and fixed barrier height (V0). It varied the barrier width (L) and plotted the resulting probability.\n",
        "# The outcome showed a rapid, approximately exponential decay of tunneling probability as the barrier width increased.\n",
        "\n",
        "# 3. Compare symbolic dependency to numerical variation\n",
        "# The symbolic result T_final_simplify clearly shows dependency on L in the exponential terms.\n",
        "# The numerical simulation varied L and observed the change in T. This aligns with the symbolic dependency.\n",
        "# The symbolic result also depends on E, V0, m, and hbar, which were fixed parameters in the numerical simulation.\n",
        "\n",
        "# 4. Comment on qualitative agreement and discrepancies\n",
        "print(\"Relationship between Symbolic Result and Numerical Simulation:\")\n",
        "print(\"-\" * 60)\n",
        "\n",
        "print(\"Qualitative Agreement:\")\n",
        "print(\"The symbolic expression for the tunneling probability (though complex) contains exponential terms\")\n",
        "print(\"with the barrier width (L) in the exponent, specifically involving sqrt(V0 - E) * L.\")\n",
        "print(\"This is qualitatively consistent with the numerical simulation, which showed a rapid,\")\n",
        "print(\"exponential-like decrease in tunneling probability as the barrier width (L) increased.\")\n",
        "print(\"Both the symbolic and numerical results demonstrate that increasing barrier width significantly\")\n",
        "print(\"reduces the tunneling probability for E < V0.\")\n",
        "\n",
        "print(\"\\nDiscrepancies/Complexities:\")\n",
        "print(\"The simplified symbolic result obtained (T_final_simplify) is much more complex than the simple\")\n",
        "print(\"approximate formula T ≈ exp(-2αL) seen in textbooks and qualitatively observed in the numerical plot (on a log scale).\")\n",
        "print(\"The full symbolic expression includes contributions from reflections at both interfaces and interference effects,\")\n",
        "print(\"leading to a more intricate form than the basic WKB approximation.\")\n",
        "print(\"The numerical plot showed a smooth exponential decay because it focused on the dominant exponential term at larger L.\")\n",
        "print(\"The complexity of the full symbolic solution highlights the approximations made in the simple exponential formula\")\n",
        "print(\"and the numerical simulation's focus on the key parameter L and its dominant effect.\")\n",
        "\n",
        "# Note: Due to the complexity of T_final_simplify, we do not attempt to print it here again.\n",
        "# We rely on the previous steps displaying it."
      ],
      "execution_count": null,
      "outputs": []
    },
    {
      "cell_type": "markdown",
      "metadata": {
        "id": "324b6fce"
      },
      "source": [
        "## Analyze symbolic expression dependency on E and V0\n",
        "\n",
        "Based on the derived symbolic expression for the tunneling probability ($T_{final\\_simplify}$), we can analyze its dependency on the electron energy ($E$) and the barrier height ($V_0$).\n",
        "\n",
        "While the full symbolic expression is complex, the key dependencies arise from the terms involving $\\sqrt{V_0 - E}$ and the exponential function.\n",
        "\n",
        "*   **Dependency on Electron Energy (E):**\n",
        "    *   The term $\\sqrt{V_0 - E}$ is present in the exponent. As $E$ increases (approaching $V_0$), $V_0 - E$ decreases, and thus $\\sqrt{V_0 - E}$ decreases. This leads to a smaller negative argument in the exponential terms (like $e^{-2\\alpha L}$ where $\\alpha \\propto \\sqrt{V_0 - E}$), causing the exponential term to become larger.\n",
        "    *   Therefore, as the electron energy $E$ increases (while still being less than $V_0$), the tunneling probability $T$ is expected to **increase**. This is physically intuitive: a higher energy electron has a greater chance of tunneling through a barrier of fixed height.\n",
        "    *   The pre-exponential factors in the full symbolic expression also depend on $E$ and $V_0$, contributing to the overall dependency in a more complex way than the simple exponential approximation.\n",
        "\n",
        "*   **Dependency on Barrier Height (V0):**\n",
        "    *   The term $\\sqrt{V_0 - E}$ is also present in the exponent. As $V_0$ increases (for a fixed $E < V_0$), $V_0 - E$ increases, and thus $\\sqrt{V_0 - E}$ increases. This leads to a larger negative argument in the exponential terms, causing the exponential term to become smaller.\n",
        "    *   Therefore, as the barrier height $V_0$ increases (for a fixed $E < V_0$), the tunneling probability $T$ is expected to **decrease**. This is also physically intuitive: a taller barrier is harder for an electron to tunnel through.\n",
        "    *   Similar to the dependency on $E$, the pre-exponential factors also influence the exact relationship, but the dominant effect comes from the exponential term.\n",
        "\n",
        "In summary, the symbolic expression confirms the expected physical behavior: tunneling probability increases with increasing electron energy (for $E < V_0$) and decreases with increasing barrier height. The complexity of the full expression captures more subtle effects like reflections compared to the simple exponential approximation."
      ]
    },
    {
      "cell_type": "markdown",
      "metadata": {
        "id": "24862a92"
      },
      "source": [
        "## Summary:\n",
        "\n",
        "### Data Analysis Key Findings\n",
        "\n",
        "*   The wave functions for the three regions (before, inside, and after the barrier) were successfully defined symbolically, including the condition of no reflected wave in Region 3 ($G=0$).\n",
        "*   The four boundary conditions (continuity of the wave function and its derivative at $x=0$ and $x=L$) were correctly formulated as symbolic equations.\n",
        "*   SymPy's `solve` function was successfully used to obtain symbolic expressions for the wave function coefficients $B$, $C$, $D$, and $F$ in terms of the incident amplitude $A$ and other physical parameters.\n",
        "*   An attempt was made to derive the symbolic expression for the tunneling probability $T = |F/A|^2$. While a symbolic expression was obtained, it remained complex and was not simplified to the standard form expected for the case $E < V_0$, despite attempts to apply assumptions and substitutions.\n",
        "*   Qualitative agreement was found between the symbolic result's dependency on barrier width ($L$) and the numerical simulation, both showing a rapid decrease in tunneling probability as $L$ increases.\n",
        "*   The complexity of the full symbolic solution was noted as a discrepancy compared to the simpler exponential decay observed in the numerical simulation, highlighting the inclusion of reflection and interference effects in the full symbolic treatment.\n",
        "\n",
        "### Insights or Next Steps\n",
        "\n",
        "*   Further investigation is needed to understand why SymPy's simplification did not yield the standard, simplified formula for the tunneling probability under the $E < V_0$ assumption. This might involve exploring different simplification techniques or explicitly guiding SymPy with more specific assumptions about the terms.\n",
        "*   The derived symbolic expression, even in its complex form, can be used to analyze the contributions of different physical parameters ($E$, $V_0$, $m$, $L$, $\\hbar$) to the tunneling probability beyond what was explored in the numerical simulation (which only varied $L$).\n"
      ]
    },
    {
      "cell_type": "markdown",
      "metadata": {
        "id": "c2b73309"
      },
      "source": [
        "# Task\n",
        "Plot the wave functions in each region."
      ]
    },
    {
      "cell_type": "markdown",
      "metadata": {
        "id": "81031c3f"
      },
      "source": [
        "## Define parameters numerically\n",
        "\n",
        "### Subtask:\n",
        "Assign numerical values to the physical constants and parameters (hbar, m, E, V0, L).\n"
      ]
    },
    {
      "cell_type": "markdown",
      "metadata": {
        "id": "ff4532ce"
      },
      "source": [
        "**Reasoning**:\n",
        "Assign numerical values to the physical constants and parameters as specified in the instructions.\n",
        "\n"
      ]
    },
    {
      "cell_type": "code",
      "metadata": {
        "id": "348e88b6"
      },
      "source": [
        "# Define numerical values for the physical constants and parameters in SI units\n",
        "# Use precise, standard values for physical constants.\n",
        "HBAR = 1.054571817e-34  # Reduced Planck constant in Joule*seconds\n",
        "ELECTRON_MASS = 9.10938356e-31  # Electron mass in kg\n",
        "EV_TO_JOULE = 1.602176634e-19  # Conversion factor for electron-volts to Joules\n",
        "\n",
        "# Assign numerical values for the specific scenario\n",
        "# Ensure E < V0 for tunneling\n",
        "E_numerical_J = 2.0 * EV_TO_JOULE  # Electron energy in Joules (2.0 eV)\n",
        "V0_numerical_J = 5.0 * EV_TO_JOULE  # Barrier height in Joules (5.0 eV)\n",
        "L_numerical_m = 0.5e-9  # Barrier width in meters (0.5 nm)\n",
        "\n",
        "# Display the assigned numerical values\n",
        "print(f\"Numerical value for hbar: {HBAR} J*s\")\n",
        "print(f\"Numerical value for m (electron mass): {ELECTRON_MASS} kg\")\n",
        "print(f\"Numerical value for E: {E_numerical_J} J\")\n",
        "print(f\"Numerical value for V0: {V0_numerical_J} J\")\n",
        "print(f\"Numerical value for L: {L_numerical_m} m\")"
      ],
      "execution_count": null,
      "outputs": []
    },
    {
      "cell_type": "markdown",
      "metadata": {
        "id": "5f815307"
      },
      "source": [
        "## Define spatial range\n",
        "\n",
        "### Subtask:\n",
        "Define the range of x values for each region (before, inside, and after the barrier).\n"
      ]
    },
    {
      "cell_type": "markdown",
      "metadata": {
        "id": "32442c68"
      },
      "source": [
        "**Reasoning**:\n",
        "Define the x ranges for each region and create NumPy arrays for plotting the wave functions.\n",
        "\n"
      ]
    },
    {
      "cell_type": "code",
      "metadata": {
        "id": "84817274"
      },
      "source": [
        "# Define the x ranges for each region\n",
        "x_start_region1 = -L_numerical_m  # Start before the barrier\n",
        "x_end_region1 = 0.0              # Barrier starts at x=0\n",
        "\n",
        "x_start_region2 = 0.0              # Barrier starts at x=0\n",
        "x_end_region2 = L_numerical_m    # Barrier ends at x=L\n",
        "\n",
        "x_start_region3 = L_numerical_m    # Barrier ends at x=L\n",
        "x_end_region3 = 2 * L_numerical_m  # Extend a reasonable distance after the barrier\n",
        "\n",
        "# Create NumPy arrays for the x-values in each region\n",
        "num_points = 500 # Number of points for smoother plotting\n",
        "\n",
        "x_region1 = np.linspace(x_start_region1, x_end_region1, num_points)\n",
        "x_region2 = np.linspace(x_start_region2, x_end_region2, num_points)\n",
        "x_region3 = np.linspace(x_start_region3, x_end_region3, num_points)\n",
        "\n",
        "# Display the defined ranges and the first few points of each array\n",
        "print(f\"Region 1 x range: [{x_start_region1}, {x_end_region1}]\")\n",
        "print(f\"Region 2 x range: [{x_start_region2}, {x_end_region2}]\")\n",
        "print(f\"Region 3 x range: [{x_start_region3}, {x_end_region3}]\")\n",
        "\n",
        "print(\"\\nFirst 5 points of x_region1:\")\n",
        "print(x_region1[:5])\n",
        "print(\"\\nFirst 5 points of x_region2:\")\n",
        "print(x_region2[:5])\n",
        "print(\"\\nFirst 5 points of x_region3:\")\n",
        "print(x_region3[:5])"
      ],
      "execution_count": null,
      "outputs": []
    },
    {
      "cell_type": "markdown",
      "metadata": {
        "id": "bbfd05a8"
      },
      "source": [
        "**Reasoning**:\n",
        "The previous code failed because the `numpy` library was not imported. I need to import `numpy` as `np` before using `np.linspace`.\n",
        "\n"
      ]
    },
    {
      "cell_type": "code",
      "metadata": {
        "id": "jNvhZxZkd0Tw"
      },
      "source": [
        "import numpy as np\n",
        "\n",
        "# Define the x ranges for each region\n",
        "x_start_region1 = -L_numerical_m  # Start before the barrier\n",
        "x_end_region1 = 0.0              # Barrier starts at x=0\n",
        "\n",
        "x_start_region2 = 0.0              # Barrier starts at x=0\n",
        "x_end_region2 = L_numerical_m    # Barrier ends at x=L\n",
        "\n",
        "x_start_region3 = L_numerical_m    # Barrier ends at x=L\n",
        "x_end_region3 = 2 * L_numerical_m  # Extend a reasonable distance after the barrier\n",
        "\n",
        "# Create NumPy arrays for the x-values in each region\n",
        "num_points = 500 # Number of points for smoother plotting\n",
        "\n",
        "x_region1 = np.linspace(x_start_region1, x_end_region1, num_points)\n",
        "x_region2 = np.linspace(x_start_region2, x_end_region2, num_points)\n",
        "x_region3 = np.linspace(x_start_region3, x_end_region3, num_points)\n",
        "\n",
        "# Display the defined ranges and the first few points of each array\n",
        "print(f\"Region 1 x range: [{x_start_region1}, {x_end_region1}]\")\n",
        "print(f\"Region 2 x range: [{x_start_region2}, {x_end_region2}]\")\n",
        "print(f\"Region 3 x range: [{x_start_region3}, {x_end_region3}]\")\n",
        "\n",
        "print(\"\\nFirst 5 points of x_region1:\")\n",
        "print(x_region1[:5])\n",
        "print(\"\\nFirst 5 points of x_region2:\")\n",
        "print(x_region2[:5])\n",
        "print(\"\\nFirst 5 points of x_region3:\")\n",
        "print(x_region3[:5])"
      ],
      "execution_count": null,
      "outputs": []
    },
    {
      "cell_type": "markdown",
      "metadata": {
        "id": "34cb0eca"
      },
      "source": [
        "## Evaluate wave functions\n",
        "\n",
        "### Subtask:\n",
        "Substitute the numerical parameters and x values into the symbolic wave function expressions to get numerical values.\n"
      ]
    },
    {
      "cell_type": "markdown",
      "metadata": {
        "id": "bc032fde"
      },
      "source": [
        "**Reasoning**:\n",
        "Define numerical values for coefficients using the symbolic solution and substitute all numerical values into the symbolic wave function expressions. Then, evaluate the numerical expressions over the defined x-ranges and calculate the probability density.\n",
        "\n"
      ]
    },
    {
      "cell_type": "code",
      "metadata": {
        "id": "dd7bc5a0"
      },
      "source": [
        "# Define numerical value for the incident amplitude A\n",
        "A_numerical = 1.0 # Set incident amplitude to 1 for calculating relative magnitudes\n",
        "\n",
        "# Use the previously solved symbolic expressions in solution_real to get numerical values for other coefficients\n",
        "# solution_real is a dictionary mapping symbolic coefficients to their expressions in terms of A\n",
        "# Substitute the numerical values of parameters into these expressions\n",
        "numerical_solution = {\n",
        "    coeff: expr.subs({\n",
        "        hbar: HBAR,\n",
        "        m: ELECTRON_MASS,\n",
        "        E: E_numerical_J,\n",
        "        V0: V0_numerical_J,\n",
        "        L: L_numerical_m,\n",
        "        A: A_numerical # Substitute A_numerical into the expressions\n",
        "    }) for coeff, expr in solution_real.items()\n",
        "}\n",
        "\n",
        "# Extract numerical values for each coefficient\n",
        "B_numerical = numerical_solution[B]\n",
        "C_numerical = numerical_solution[C]\n",
        "D_numerical = numerical_solution[D]\n",
        "F_numerical = numerical_solution[F] # F is the transmitted amplitude\n",
        "\n",
        "# Substitute the numerical values of parameters and coefficients into the symbolic wave functions\n",
        "psi_1_numerical_expr = psi_1_real.subs({\n",
        "    hbar: HBAR, m: ELECTRON_MASS, E: E_numerical_J, V0: V0_numerical_J, L: L_numerical_m,\n",
        "    A: A_numerical, B: B_numerical\n",
        "})\n",
        "\n",
        "psi_2_numerical_expr = psi_2_real.subs({\n",
        "    hbar: HBAR, m: ELECTRON_MASS, E: E_numerical_J, V0: V0_numerical_J, L: L_numerical_m,\n",
        "    C: C_numerical, D: D_numerical\n",
        "})\n",
        "\n",
        "psi_3_numerical_expr = psi_3_real.subs({\n",
        "    hbar: HBAR, m: ELECTRON_MASS, E: E_numerical_J, V0: V0_numerical_J, L: L_numerical_m,\n",
        "    F: F_numerical\n",
        "})\n",
        "\n",
        "# Create functions from the numerical expressions to evaluate them over arrays of x values\n",
        "psi_1_func = sp.lambdify(x, psi_1_numerical_expr, 'numpy')\n",
        "psi_2_func = sp.lambdify(x, psi_2_numerical_expr, 'numpy')\n",
        "psi_3_func = sp.lambdify(x, psi_3_numerical_expr, 'numpy')\n",
        "\n",
        "# Evaluate the numerical wave functions over the respective x-value arrays\n",
        "psi_1_numerical = psi_1_func(x_region1)\n",
        "psi_2_numerical = psi_2_func(x_region2)\n",
        "psi_3_numerical = psi_3_func(x_region3)\n",
        "\n",
        "# Calculate the probability density (|psi|^2) for plotting\n",
        "prob_density_1 = np.abs(psi_1_numerical)**2\n",
        "prob_density_2 = np.abs(psi_2_numerical)**2\n",
        "prob_density_3 = np.abs(psi_3_numerical)**2\n",
        "\n",
        "# Display the first few numerical values of the wave functions and probability densities\n",
        "print(\"First 5 numerical values of psi_1:\")\n",
        "print(psi_1_numerical[:5])\n",
        "print(\"\\nFirst 5 numerical values of prob_density_1:\")\n",
        "print(prob_density_1[:5])\n",
        "\n",
        "print(\"\\nFirst 5 numerical values of psi_2:\")\n",
        "print(psi_2_numerical[:5])\n",
        "print(\"\\nFirst 5 numerical values of prob_density_2:\")\n",
        "print(prob_density_2[:5])\n",
        "\n",
        "print(\"\\nFirst 5 numerical values of psi_3:\")\n",
        "print(psi_3_numerical[:5])\n",
        "print(\"\\nFirst 5 numerical values of prob_density_3:\")\n",
        "print(prob_density_3[:5])"
      ],
      "execution_count": null,
      "outputs": []
    },
    {
      "cell_type": "markdown",
      "metadata": {
        "id": "23e75479"
      },
      "source": [
        "**Reasoning**:\n",
        "The previous attempt failed because `solution_real` was not defined in the current session. I need to re-execute the code block that defined `solution_real` by solving the system of equations with real and positive assumptions. Then I can proceed with substituting the numerical parameters and x values into the symbolic wave function expressions.\n",
        "\n"
      ]
    },
    {
      "cell_type": "code",
      "metadata": {
        "id": "N2Q2QX_1eCT2"
      },
      "source": [
        "# Redefine symbols with only real and positive assumptions (remove E < V0 for solving)\n",
        "hbar, m, E, V0, x, k1, k2, k3, A, B, C, D, F, G, L = sp.symbols('hbar m E V0 x k1 k2 k3 A B C D F G L', real=True, positive=True)\n",
        "\n",
        "\n",
        "# Re-express wave numbers/decay constant symbolically with real assumptions\n",
        "# k2 expression is different depending on E vs V0, but we'll use the form for E < V0\n",
        "# as that's the case we are interested in for tunneling, and check later.\n",
        "k1_expr_real = sp.sqrt(2 * m * E) / hbar\n",
        "k2_expr_real = sp.sqrt(2 * m * (V0 - E)) / hbar # Use this form for now, assuming V0 > E implicitly\n",
        "\n",
        "\n",
        "# Redefine the wave functions and boundary conditions with real assumptions and new k expressions\n",
        "psi_1_real = A * sp.exp(sp.I * k1_expr_real * x) + B * sp.exp(-sp.I * k1_expr_real * x)\n",
        "# Note: for E > V0, k2 would be imaginary, leading to oscillating solutions, not decay.\n",
        "# We are focusing on tunneling (E < V0), where k2 is real.\n",
        "psi_2_real = C * sp.exp(k2_expr_real * x) + D * sp.exp(-k2_expr_real * x)\n",
        "psi_3_real = F * sp.exp(sp.I * k3_expr_real * x) # G=0 already applied\n",
        "k3_expr_real = sp.sqrt(2 * m * E) / hbar\n",
        "\n",
        "\n",
        "# Re-solve the system of equations for B, C, D, and F in terms of A with real assumptions\n",
        "eq1_real = sp.Eq(psi_1_real.subs({x: 0}), psi_2_real.subs({x: 0}))\n",
        "psi_1_prime_real = sp.diff(psi_1_real, x)\n",
        "psi_2_prime_real = sp.diff(psi_2_real, x)\n",
        "eq2_real = sp.Eq(psi_1_prime_real.subs({x: 0}), psi_2_prime_real.subs({x: 0}))\n",
        "eq3_real = sp.Eq(psi_2_real.subs({x: L}), psi_3_real.subs({x: L}))\n",
        "psi_3_prime_real = sp.diff(psi_3_real, x)\n",
        "eq4_real = sp.Eq(psi_2_prime_real.subs({x: L}), psi_3_prime_real.subs({x: L}))\n",
        "\n",
        "equations_real = [eq1_real, eq2_real, eq3_real, eq4_real]\n",
        "unknown_coeffs = [B, C, D, F]\n",
        "\n",
        "# Use sp.solve to find the solutions with real and positive assumptions\n",
        "solution_real = sp.solve(equations_real, unknown_coeffs)\n",
        "\n",
        "# Define numerical value for the incident amplitude A\n",
        "A_numerical = 1.0 # Set incident amplitude to 1 for calculating relative magnitudes\n",
        "\n",
        "# Use the previously solved symbolic expressions in solution_real to get numerical values for other coefficients\n",
        "# solution_real is a dictionary mapping symbolic coefficients to their expressions in terms of A\n",
        "# Substitute the numerical values of parameters into these expressions\n",
        "numerical_solution = {\n",
        "    coeff: expr.subs({\n",
        "        hbar: HBAR,\n",
        "        m: ELECTRON_MASS,\n",
        "        E: E_numerical_J,\n",
        "        V0: V0_numerical_J,\n",
        "        L: L_numerical_m,\n",
        "        A: A_numerical # Substitute A_numerical into the expressions\n",
        "    }) for coeff, expr in solution_real.items()\n",
        "}\n",
        "\n",
        "# Extract numerical values for each coefficient\n",
        "B_numerical = numerical_solution[B]\n",
        "C_numerical = numerical_solution[C]\n",
        "D_numerical = numerical_solution[D]\n",
        "F_numerical = numerical_solution[F] # F is the transmitted amplitude\n",
        "\n",
        "# Substitute the numerical values of parameters and coefficients into the symbolic wave functions\n",
        "psi_1_numerical_expr = psi_1_real.subs({\n",
        "    hbar: HBAR, m: ELECTRON_MASS, E: E_numerical_J, V0: V0_numerical_J, L: L_numerical_m,\n",
        "    A: A_numerical, B: B_numerical\n",
        "})\n",
        "\n",
        "psi_2_numerical_expr = psi_2_real.subs({\n",
        "    hbar: HBAR, m: ELECTRON_MASS, E: E_numerical_J, V0: V0_numerical_J, L: L_numerical_m,\n",
        "    C: C_numerical, D: D_numerical\n",
        "})\n",
        "\n",
        "psi_3_numerical_expr = psi_3_real.subs({\n",
        "    hbar: HBAR, m: ELECTRON_MASS, E: E_numerical_J, V0: V0_numerical_J, L: L_numerical_m,\n",
        "    F: F_numerical\n",
        "})\n",
        "\n",
        "# Create functions from the numerical expressions to evaluate them over arrays of x values\n",
        "psi_1_func = sp.lambdify(x, psi_1_numerical_expr, 'numpy')\n",
        "psi_2_func = sp.lambdify(x, psi_2_numerical_expr, 'numpy')\n",
        "psi_3_func = sp.lambdify(x, psi_3_numerical_expr, 'numpy')\n",
        "\n",
        "# Evaluate the numerical wave functions over the respective x-value arrays\n",
        "psi_1_numerical = psi_1_func(x_region1)\n",
        "psi_2_numerical = psi_2_func(x_region2)\n",
        "psi_3_numerical = psi_3_func(x_region3)\n",
        "\n",
        "# Calculate the probability density (|psi|^2) for plotting\n",
        "prob_density_1 = np.abs(psi_1_numerical)**2\n",
        "prob_density_2 = np.abs(psi_2_numerical)**2\n",
        "prob_density_3 = np.abs(psi_3_numerical)**2\n",
        "\n",
        "# Display the first few numerical values of the wave functions and probability densities\n",
        "print(\"First 5 numerical values of psi_1:\")\n",
        "print(psi_1_numerical[:5])\n",
        "print(\"\\nFirst 5 numerical values of prob_density_1:\")\n",
        "print(prob_density_1[:5])\n",
        "\n",
        "print(\"\\nFirst 5 numerical values of psi_2:\")\n",
        "print(psi_2_numerical[:5])\n",
        "print(\"\\nFirst 5 numerical values of prob_density_2:\")\n",
        "print(prob_density_2[:5])\n",
        "\n",
        "print(\"\\nFirst 5 numerical values of psi_3:\")\n",
        "print(psi_3_numerical[:5])\n",
        "print(\"\\nFirst 5 numerical values of prob_density_3:\")\n",
        "print(prob_density_3[:5])"
      ],
      "execution_count": null,
      "outputs": []
    }
  ],
  "metadata": {
    "colab": {
      "provenance": [],
      "include_colab_link": true
    },
    "kernelspec": {
      "display_name": "Python 3",
      "name": "python3"
    }
  },
  "nbformat": 4,
  "nbformat_minor": 0
}